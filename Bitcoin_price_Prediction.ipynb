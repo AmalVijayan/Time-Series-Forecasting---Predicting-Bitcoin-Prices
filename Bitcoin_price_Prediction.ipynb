{
  "nbformat": 4,
  "nbformat_minor": 0,
  "metadata": {
    "kernelspec": {
      "name": "python3",
      "display_name": "Python 3"
    },
    "language_info": {
      "codemirror_mode": {
        "name": "ipython",
        "version": 3
      },
      "file_extension": ".py",
      "mimetype": "text/x-python",
      "name": "python",
      "nbconvert_exporter": "python",
      "pygments_lexer": "ipython3",
      "version": "3.6.8"
    },
    "colab": {
      "name": "ArticleFinal_RNN_BitCoin.ipynb",
      "version": "0.3.2",
      "provenance": [],
      "collapsed_sections": []
    },
    "accelerator": "GPU"
  },
  "cells": [
    {
      "cell_type": "markdown",
      "metadata": {
        "id": "q6pm25mX4s3k",
        "colab_type": "text"
      },
      "source": [
        "# Time Series Forecasting: Predicting Bitcoin Price\n",
        "\n",
        "\n",
        "The cryptocurrency market has seen its rise and fall in the past few years. With a variety of coins being exchanged for real money, it is important to know the trend in the coin price. In this article, we will build a fairly simple LSTM network to predict or forecast the prices of Bitcoin.\n",
        "\n",
        "## Obtaining Bitcoin Data\n",
        "\n",
        "There are plenty of open sources available on the internet to extract historical data of Bitcoin prices. The one that I have used below is from Coinmarketcap.\n",
        "\n",
        "You can view and download the dataset [here](https://coinmarketcap.com/currencies/bitcoin/historical-data/).\n"
      ]
    },
    {
      "cell_type": "markdown",
      "metadata": {
        "id": "-378lqZkUD36",
        "colab_type": "text"
      },
      "source": [
        "## Step 1. Loading and Understanding The Data"
      ]
    },
    {
      "cell_type": "code",
      "metadata": {
        "id": "yZICbvdieWsJ",
        "colab_type": "code",
        "colab": {}
      },
      "source": [
        "#Importing the libraries\n",
        "import numpy as np\n",
        "import matplotlib.pyplot as plt\n",
        "import pandas as pd"
      ],
      "execution_count": 0,
      "outputs": []
    },
    {
      "cell_type": "code",
      "metadata": {
        "id": "C_pr4CzLfA3Y",
        "colab_type": "code",
        "outputId": "2583917d-e691-4d30-b8dd-3a6012d349d2",
        "colab": {
          "base_uri": "https://localhost:8080/",
          "height": 359
        }
      },
      "source": [
        "#Importing the data\n",
        "complete_data = pd.read_excel('Bitcoins_data/BitCoin_Full_Aug_20.xlsx')\n",
        "\n",
        "#Displaying the first 10 rows\n",
        "complete_data.head(10)\n"
      ],
      "execution_count": 0,
      "outputs": [
        {
          "output_type": "execute_result",
          "data": {
            "text/html": [
              "<div>\n",
              "<style scoped>\n",
              "    .dataframe tbody tr th:only-of-type {\n",
              "        vertical-align: middle;\n",
              "    }\n",
              "\n",
              "    .dataframe tbody tr th {\n",
              "        vertical-align: top;\n",
              "    }\n",
              "\n",
              "    .dataframe thead th {\n",
              "        text-align: right;\n",
              "    }\n",
              "</style>\n",
              "<table border=\"1\" class=\"dataframe\">\n",
              "  <thead>\n",
              "    <tr style=\"text-align: right;\">\n",
              "      <th></th>\n",
              "      <th>Date</th>\n",
              "      <th>Open</th>\n",
              "      <th>High</th>\n",
              "      <th>Low</th>\n",
              "      <th>Close</th>\n",
              "      <th>Volume</th>\n",
              "      <th>Market Cap</th>\n",
              "    </tr>\n",
              "  </thead>\n",
              "  <tbody>\n",
              "    <tr>\n",
              "      <th>0</th>\n",
              "      <td>Aug 20, 2019</td>\n",
              "      <td>10916.35</td>\n",
              "      <td>10947.04</td>\n",
              "      <td>10618.96</td>\n",
              "      <td>10763.23</td>\n",
              "      <td>15053082175</td>\n",
              "      <td>192530283565</td>\n",
              "    </tr>\n",
              "    <tr>\n",
              "      <th>1</th>\n",
              "      <td>Aug 19, 2019</td>\n",
              "      <td>10350.28</td>\n",
              "      <td>10916.05</td>\n",
              "      <td>10313.20</td>\n",
              "      <td>10916.05</td>\n",
              "      <td>16038264603</td>\n",
              "      <td>195243306008</td>\n",
              "    </tr>\n",
              "    <tr>\n",
              "      <th>2</th>\n",
              "      <td>Aug 18, 2019</td>\n",
              "      <td>10233.01</td>\n",
              "      <td>10487.07</td>\n",
              "      <td>10119.09</td>\n",
              "      <td>10345.81</td>\n",
              "      <td>12999813869</td>\n",
              "      <td>185022920955</td>\n",
              "    </tr>\n",
              "    <tr>\n",
              "      <th>3</th>\n",
              "      <td>Aug 17, 2019</td>\n",
              "      <td>10358.72</td>\n",
              "      <td>10452.62</td>\n",
              "      <td>10086.70</td>\n",
              "      <td>10231.74</td>\n",
              "      <td>13778035685</td>\n",
              "      <td>182966857173</td>\n",
              "    </tr>\n",
              "    <tr>\n",
              "      <th>4</th>\n",
              "      <td>Aug 16, 2019</td>\n",
              "      <td>10319.42</td>\n",
              "      <td>10524.35</td>\n",
              "      <td>9855.48</td>\n",
              "      <td>10374.34</td>\n",
              "      <td>20228207096</td>\n",
              "      <td>185500055339</td>\n",
              "    </tr>\n",
              "    <tr>\n",
              "      <th>5</th>\n",
              "      <td>Aug 15, 2019</td>\n",
              "      <td>10038.42</td>\n",
              "      <td>10437.41</td>\n",
              "      <td>9675.32</td>\n",
              "      <td>10311.55</td>\n",
              "      <td>22899115082</td>\n",
              "      <td>184357666577</td>\n",
              "    </tr>\n",
              "    <tr>\n",
              "      <th>6</th>\n",
              "      <td>Aug 14, 2019</td>\n",
              "      <td>10889.49</td>\n",
              "      <td>10889.56</td>\n",
              "      <td>10028.14</td>\n",
              "      <td>10051.70</td>\n",
              "      <td>19990838300</td>\n",
              "      <td>179692803424</td>\n",
              "    </tr>\n",
              "    <tr>\n",
              "      <th>7</th>\n",
              "      <td>Aug 13, 2019</td>\n",
              "      <td>11385.05</td>\n",
              "      <td>11420.05</td>\n",
              "      <td>10830.33</td>\n",
              "      <td>10895.83</td>\n",
              "      <td>16681503537</td>\n",
              "      <td>194762696644</td>\n",
              "    </tr>\n",
              "    <tr>\n",
              "      <th>8</th>\n",
              "      <td>Aug 12, 2019</td>\n",
              "      <td>11528.19</td>\n",
              "      <td>11528.19</td>\n",
              "      <td>11320.95</td>\n",
              "      <td>11382.62</td>\n",
              "      <td>13647198229</td>\n",
              "      <td>203441494985</td>\n",
              "    </tr>\n",
              "    <tr>\n",
              "      <th>9</th>\n",
              "      <td>Aug 11, 2019</td>\n",
              "      <td>11349.74</td>\n",
              "      <td>11523.58</td>\n",
              "      <td>11248.29</td>\n",
              "      <td>11523.58</td>\n",
              "      <td>15774371518</td>\n",
              "      <td>205941632235</td>\n",
              "    </tr>\n",
              "  </tbody>\n",
              "</table>\n",
              "</div>"
            ],
            "text/plain": [
              "           Date      Open      High  ...     Close       Volume    Market Cap\n",
              "0  Aug 20, 2019  10916.35  10947.04  ...  10763.23  15053082175  192530283565\n",
              "1  Aug 19, 2019  10350.28  10916.05  ...  10916.05  16038264603  195243306008\n",
              "2  Aug 18, 2019  10233.01  10487.07  ...  10345.81  12999813869  185022920955\n",
              "3  Aug 17, 2019  10358.72  10452.62  ...  10231.74  13778035685  182966857173\n",
              "4  Aug 16, 2019  10319.42  10524.35  ...  10374.34  20228207096  185500055339\n",
              "5  Aug 15, 2019  10038.42  10437.41  ...  10311.55  22899115082  184357666577\n",
              "6  Aug 14, 2019  10889.49  10889.56  ...  10051.70  19990838300  179692803424\n",
              "7  Aug 13, 2019  11385.05  11420.05  ...  10895.83  16681503537  194762696644\n",
              "8  Aug 12, 2019  11528.19  11528.19  ...  11382.62  13647198229  203441494985\n",
              "9  Aug 11, 2019  11349.74  11523.58  ...  11523.58  15774371518  205941632235\n",
              "\n",
              "[10 rows x 7 columns]"
            ]
          },
          "metadata": {
            "tags": []
          },
          "execution_count": 3
        }
      ]
    },
    {
      "cell_type": "code",
      "metadata": {
        "id": "3MdpXWYbSsLQ",
        "colab_type": "code",
        "outputId": "7680f58b-14f4-42aa-fdda-ae506f34fcba",
        "colab": {
          "base_uri": "https://localhost:8080/",
          "height": 238
        }
      },
      "source": [
        "#Printing the dataset info\n",
        "print(complete_data.info())"
      ],
      "execution_count": 0,
      "outputs": [
        {
          "output_type": "stream",
          "text": [
            "<class 'pandas.core.frame.DataFrame'>\n",
            "RangeIndex: 2306 entries, 0 to 2305\n",
            "Data columns (total 7 columns):\n",
            "Date          2306 non-null object\n",
            "Open          2306 non-null float64\n",
            "High          2306 non-null float64\n",
            "Low           2306 non-null float64\n",
            "Close         2306 non-null float64\n",
            "Volume        2306 non-null object\n",
            "Market Cap    2306 non-null int64\n",
            "dtypes: float64(4), int64(1), object(2)\n",
            "memory usage: 126.2+ KB\n",
            "None\n"
          ],
          "name": "stdout"
        }
      ]
    },
    {
      "cell_type": "markdown",
      "metadata": {
        "id": "_8DMG_mfSWG8",
        "colab_type": "text"
      },
      "source": [
        "**Key Observations:** \n",
        "\n",
        "* The dataset has 7 features/columns.\n",
        "* The Date colum is of type object and has to be converted to datetime.\n",
        "* The data is arranges in the decreasing order of date which has to be reversed\n",
        "\n",
        "\n",
        "**Note**\n",
        "\n",
        "In this project, we will try to predict the closing price of bitcons and will only focus on Date, Open and Close columns in the dataset.\n",
        "\n",
        "\n"
      ]
    },
    {
      "cell_type": "markdown",
      "metadata": {
        "id": "V7z7s5s2USZ-",
        "colab_type": "text"
      },
      "source": [
        "## Step 2. Creating Training and Test Data"
      ]
    },
    {
      "cell_type": "markdown",
      "metadata": {
        "id": "rLBuGZLAUoxB",
        "colab_type": "text"
      },
      "source": [
        "\n",
        "**Important Note:**\n",
        "\n",
        "The dataset consists of observations in the decreasing order of date. We need to preserve this serial nature of the data and hence we cannot split the data randomly. So We will perform a straight forward approach to splitting the dataset.\n"
      ]
    },
    {
      "cell_type": "code",
      "metadata": {
        "id": "-rXD6xqpprP9",
        "colab_type": "code",
        "outputId": "1789b579-3ce1-4755-88d8-bfb90c84d738",
        "colab": {
          "base_uri": "https://localhost:8080/",
          "height": 51
        }
      },
      "source": [
        "#Setting The training set ratio\n",
        "training_ratio = 80\n",
        "\n",
        "#Calculating the test set ratio\n",
        "test_ratio = 100-training_ratio\n",
        "\n",
        "#Rounding the training set length to avoid fractions\n",
        "training_len = round(len(complete_data)*(training_ratio/100))\n",
        "\n",
        "#Setting the Test set length\n",
        "test_len = round(len(complete_data)-training_len)\n",
        "\n",
        "#Splitting the data based on the calculated lengths\n",
        "dataset_train = complete_data.tail(training_len)\n",
        "dataset_test = complete_data.head(test_len)\n",
        "\n",
        "#Printing the shapes of training and test sets\n",
        "\n",
        "print(\"Shape Of Training Set :\", dataset_train.shape)\n",
        "print(\"Shape Of Test Set :\", dataset_test.shape)\n",
        "\n"
      ],
      "execution_count": 0,
      "outputs": [
        {
          "output_type": "stream",
          "text": [
            "Shape Of Training Set : (1845, 7)\n",
            "Shape Of Test Set : (461, 7)\n"
          ],
          "name": "stdout"
        }
      ]
    },
    {
      "cell_type": "code",
      "metadata": {
        "id": "cLA5Gdh2rLE_",
        "colab_type": "code",
        "outputId": "a24edcdf-6d99-4dc6-e5b7-03ecaaadfea6",
        "colab": {
          "base_uri": "https://localhost:8080/",
          "height": 391
        }
      },
      "source": [
        "#Printing the training and test sets\n",
        "print(dataset_test.tail(10))\n",
        "print(dataset_train.head(10))"
      ],
      "execution_count": 0,
      "outputs": [
        {
          "output_type": "stream",
          "text": [
            "             Date     Open     High      Low    Close      Volume    Market Cap\n",
            "451  May 26, 2018  7486.48  7595.16  7349.12  7355.88  4051539968  125469061263\n",
            "452  May 25, 2018  7592.30  7659.14  7392.65  7480.14  4867829760  127573690458\n",
            "453  May 24, 2018  7561.12  7738.60  7331.14  7587.34  6049220096  129385391552\n",
            "454  May 23, 2018  8037.08  8054.66  7507.88  7557.82  6491120128  128868479514\n",
            "455  May 22, 2018  8419.87  8423.25  8004.58  8041.78  5137010176  137104106176\n",
            "456  May 21, 2018  8522.33  8557.52  8365.12  8418.99  5154990080  143518943480\n",
            "457  May 20, 2018  8246.99  8562.41  8205.24  8513.25  5191059968  145109512565\n",
            "458  May 19, 2018  8255.73  8372.06  8183.35  8247.18  4712399872  140559162894\n",
            "459  May 18, 2018  8091.83  8274.12  7974.82  8250.97  5764190208  140607667610\n",
            "460  May 17, 2018  8370.05  8445.54  8054.12  8094.32  5862530048  137923772714\n",
            "             Date     Open     High      Low    Close      Volume    Market Cap\n",
            "461  May 16, 2018  8504.41  8508.43  8175.49  8368.83  6760220160  142587497878\n",
            "462  May 15, 2018  8705.19  8836.19  8456.45  8510.38  6705710080  144979744412\n",
            "463  May 14, 2018  8713.10  8881.12  8367.97  8716.79  7364149760  148480275422\n",
            "464  May 13, 2018  8515.49  8773.55  8395.12  8723.94  5866379776  148587777457\n",
            "465  May 12, 2018  8441.44  8664.86  8223.50  8504.89  6821380096  144841040789\n",
            "466  May 11, 2018  9052.96  9052.96  8394.46  8441.49  8488520192  143743802092\n",
            "467  May 10, 2018  9325.96  9396.04  9040.52  9043.94  6906699776  153988453198\n",
            "468  May 09, 2018  9223.73  9374.76  9031.62  9325.18  7226890240  158758858205\n",
            "469  May 08, 2018  9380.87  9462.75  9127.77  9234.82  7415869952  157202142973\n",
            "470  May 07, 2018  9645.67  9665.85  9231.53  9373.01  7394019840  159538115686\n"
          ],
          "name": "stdout"
        }
      ]
    },
    {
      "cell_type": "markdown",
      "metadata": {
        "id": "NDLKjGo7Vw-n",
        "colab_type": "text"
      },
      "source": [
        "Note:\n",
        "\n",
        "The test set data should be the continuation of the training set data."
      ]
    },
    {
      "cell_type": "markdown",
      "metadata": {
        "id": "0NemsfDIsIL2",
        "colab_type": "text"
      },
      "source": [
        "## Step 3. Preprocessing The Training Set"
      ]
    },
    {
      "cell_type": "markdown",
      "metadata": {
        "id": "voH3ptGAXdmz",
        "colab_type": "text"
      },
      "source": [
        "###3.1 Preparing The Data"
      ]
    },
    {
      "cell_type": "code",
      "metadata": {
        "id": "mJkWdNRqrmyj",
        "colab_type": "code",
        "outputId": "928a4c75-0861-409f-c4fa-c55017979f37",
        "colab": {
          "base_uri": "https://localhost:8080/",
          "height": 119
        }
      },
      "source": [
        "#Setting the date colum to date format\n",
        "dataset_train['Date'] = pd.to_datetime(dataset_train['Date'])"
      ],
      "execution_count": 0,
      "outputs": [
        {
          "output_type": "stream",
          "text": [
            "/usr/local/lib/python3.6/dist-packages/ipykernel_launcher.py:1: SettingWithCopyWarning: \n",
            "A value is trying to be set on a copy of a slice from a DataFrame.\n",
            "Try using .loc[row_indexer,col_indexer] = value instead\n",
            "\n",
            "See the caveats in the documentation: http://pandas.pydata.org/pandas-docs/stable/indexing.html#indexing-view-versus-copy\n",
            "  \"\"\"Entry point for launching an IPython kernel.\n"
          ],
          "name": "stderr"
        }
      ]
    },
    {
      "cell_type": "code",
      "metadata": {
        "id": "WdTNe5WynTvF",
        "colab_type": "code",
        "colab": {}
      },
      "source": [
        "#Setting Date column as Index\n",
        "dataset_train.set_index('Date', inplace = True)"
      ],
      "execution_count": 0,
      "outputs": []
    },
    {
      "cell_type": "code",
      "metadata": {
        "id": "UXM48sqVnTzs",
        "colab_type": "code",
        "outputId": "2ab7ad0d-6c3b-4ced-fd0e-caa7122bbdee",
        "colab": {
          "base_uri": "https://localhost:8080/",
          "height": 102
        }
      },
      "source": [
        "#Sorting the dataset based on increasing Dates\n",
        "dataset_train.sort_values(by='Date',ascending=True, inplace = True)"
      ],
      "execution_count": 0,
      "outputs": [
        {
          "output_type": "stream",
          "text": [
            "/usr/local/lib/python3.6/dist-packages/ipykernel_launcher.py:1: SettingWithCopyWarning: \n",
            "A value is trying to be set on a copy of a slice from a DataFrame\n",
            "\n",
            "See the caveats in the documentation: http://pandas.pydata.org/pandas-docs/stable/indexing.html#indexing-view-versus-copy\n",
            "  \"\"\"Entry point for launching an IPython kernel.\n"
          ],
          "name": "stderr"
        }
      ]
    },
    {
      "cell_type": "code",
      "metadata": {
        "id": "TBmryV5KnTxQ",
        "colab_type": "code",
        "outputId": "f72e91b5-d16e-4719-975a-bce854307e3e",
        "colab": {
          "base_uri": "https://localhost:8080/",
          "height": 221
        }
      },
      "source": [
        "print(dataset_train.head(10))"
      ],
      "execution_count": 0,
      "outputs": [
        {
          "output_type": "stream",
          "text": [
            "              Open    High     Low   Close Volume  Market Cap\n",
            "Date                                                         \n",
            "2013-04-28  135.30  135.98  132.10  134.21      -  1488566728\n",
            "2013-04-29  134.44  147.49  134.00  144.54      -  1603768865\n",
            "2013-04-30  144.00  146.93  134.05  139.00      -  1542813125\n",
            "2013-05-01  139.00  139.89  107.72  116.99      -  1298954594\n",
            "2013-05-02  116.38  125.60   92.28  105.21      -  1168517495\n",
            "2013-05-03  106.25  108.13   79.10   97.75      -  1085995169\n",
            "2013-05-04   98.10  115.00   92.50  112.50      -  1250316563\n",
            "2013-05-05  112.90  118.80  107.14  115.91      -  1288693176\n",
            "2013-05-06  115.98  124.66  106.64  112.30      -  1249023060\n",
            "2013-05-07  112.25  113.44   97.70  111.50      -  1240593600\n"
          ],
          "name": "stdout"
        }
      ]
    },
    {
      "cell_type": "markdown",
      "metadata": {
        "id": "rWcbDwN5Wm3k",
        "colab_type": "text"
      },
      "source": [
        "The training set has now been reorganized by arranging the data in increasing order of dates."
      ]
    },
    {
      "cell_type": "markdown",
      "metadata": {
        "id": "QZNkaUWXXmCw",
        "colab_type": "text"
      },
      "source": [
        "### 3.2 Scaling and Sequencing "
      ]
    },
    {
      "cell_type": "code",
      "metadata": {
        "id": "Gj4GoLU0wEbv",
        "colab_type": "code",
        "colab": {}
      },
      "source": [
        "#A method to preprocess the data in to sequences and to return x and y \n",
        "\n",
        "#Initializing the MinMaxScaler object\n",
        "from sklearn.preprocessing import MinMaxScaler\n",
        "sc = MinMaxScaler(feature_range = (0,1))\n",
        "\n",
        "def bit_pre_process(raw_data , seq_len, column = 1):\n",
        "  \n",
        "  #Select the feature/column \n",
        "  data = raw_data.iloc[:, column].values\n",
        "  data = data.reshape(-1, 1)\n",
        "  \n",
        "  #Feature Scaling\n",
        "  data = sc.fit_transform(data)\n",
        "  \n",
        "  #Making sequences\n",
        "  \n",
        "  X = []\n",
        "  y = []\n",
        "\n",
        "  for i in range(seq_len, len(data)):\n",
        "      X.append(data[i-seq_len:i, 0])\n",
        "      y.append(data[i, 0])\n",
        "  X, y = np.array(X), np.array(y)\n",
        "\n",
        "  # Reshaping\n",
        "  X = np.reshape(X, (X.shape[0], X.shape[1], 1))\n",
        "  \n",
        "  return X, y"
      ],
      "execution_count": 0,
      "outputs": []
    },
    {
      "cell_type": "code",
      "metadata": {
        "id": "S98-4oBL3Bge",
        "colab_type": "code",
        "colab": {}
      },
      "source": [
        "\n",
        "#Setting the sequence length (Try different values)\n",
        "sequence_length = 60\n",
        "\n",
        "#Choosing the idex of the Close column\n",
        "comumn_index= 3\n",
        "\n",
        "#Preprocessing the training set\n",
        "X_train, y_train = bit_pre_process(dataset_train , sequence_length, comumn_index)"
      ],
      "execution_count": 0,
      "outputs": []
    },
    {
      "cell_type": "markdown",
      "metadata": {
        "id": "1I8IdGglY78j",
        "colab_type": "text"
      },
      "source": [
        "Sequence length is the number of previous observation to consider in order to predict. For example, in this case to predict the closing price of Bitcoin at a given date, the algorithm will consider the closing price of Bitcoins for the past 60 days.\n",
        "\n"
      ]
    },
    {
      "cell_type": "code",
      "metadata": {
        "id": "O96Cqx49eWsf",
        "colab_type": "code",
        "outputId": "54ac099f-d07e-4022-9085-905238413154",
        "colab": {
          "base_uri": "https://localhost:8080/",
          "height": 34
        }
      },
      "source": [
        "X_train.shape"
      ],
      "execution_count": 0,
      "outputs": [
        {
          "output_type": "execute_result",
          "data": {
            "text/plain": [
              "(1785, 60, 1)"
            ]
          },
          "metadata": {
            "tags": []
          },
          "execution_count": 13
        }
      ]
    },
    {
      "cell_type": "code",
      "metadata": {
        "id": "qloDj6rQeWsh",
        "colab_type": "code",
        "outputId": "e0d40cb9-f493-4cd1-ea21-8abca3357e2c",
        "colab": {
          "base_uri": "https://localhost:8080/",
          "height": 34
        }
      },
      "source": [
        "y_train.shape"
      ],
      "execution_count": 0,
      "outputs": [
        {
          "output_type": "execute_result",
          "data": {
            "text/plain": [
              "(1785,)"
            ]
          },
          "metadata": {
            "tags": []
          },
          "execution_count": 14
        }
      ]
    },
    {
      "cell_type": "markdown",
      "metadata": {
        "id": "OxzZEFG5aSQJ",
        "colab_type": "text"
      },
      "source": [
        "The independent variable set(x_train) will now consist of 1785 observations. Each observation in x_train is a sequence of 60 closing prices i,e. the first row in x_train will be an array of the first 60 observations from the training set and the corresponding y_train will be the closing price of the 61st observation.\n",
        "\n",
        "\n",
        "For a sequence length of 60, x_train and y_train will look like whats shown below:\n",
        "\n",
        "\n",
        "![alt text](https://www.analyticsindiamag.com/wp-content/uploads/2019/08/x_train_y_train.png)"
      ]
    },
    {
      "cell_type": "markdown",
      "metadata": {
        "id": "g--bVpuU3jZp",
        "colab_type": "text"
      },
      "source": [
        "## Step 4. Building a Recurrent Neural Network"
      ]
    },
    {
      "cell_type": "code",
      "metadata": {
        "id": "MdgKyMuleWsl",
        "colab_type": "code",
        "outputId": "187f4e91-9861-425d-d68b-b71de77230bf",
        "colab": {
          "base_uri": "https://localhost:8080/",
          "height": 258
        }
      },
      "source": [
        "#Importing the Keras libraries and packages\n",
        "from keras.models import Sequential\n",
        "from keras.layers import Dense\n",
        "from keras.layers import LSTM, CuDNNLSTM\n",
        "from keras.layers import Dropout\n",
        "\n",
        "#Initialising the RNN\n",
        "regressor = Sequential()\n",
        "\n",
        "#Adding the first LSTM layer and some Dropout regularisation\n",
        "regressor.add(CuDNNLSTM(units = 50, return_sequences = True, input_shape = (X_train.shape[1], 1)))\n",
        "regressor.add(Dropout(0.2))\n",
        "\n",
        "#Adding a second LSTM layer and some Dropout regularisation\n",
        "regressor.add(CuDNNLSTM(units = 50, return_sequences = True))\n",
        "regressor.add(Dropout(0.2))\n",
        "\n",
        "#Adding a third LSTM layer and some Dropout regularisation\n",
        "regressor.add(CuDNNLSTM(units = 50, return_sequences = True))\n",
        "regressor.add(Dropout(0.2))\n",
        "\n",
        "#Adding a fourth LSTM layer and some Dropout regularisation\n",
        "regressor.add(CuDNNLSTM(units = 50))\n",
        "regressor.add(Dropout(0.2))\n",
        "\n",
        "#Adding the output layer\n",
        "regressor.add(Dense(units = 1))\n"
      ],
      "execution_count": 0,
      "outputs": [
        {
          "output_type": "stream",
          "text": [
            "Using TensorFlow backend.\n",
            "WARNING: Logging before flag parsing goes to stderr.\n",
            "W0827 06:59:20.190963 140517615474560 deprecation_wrapper.py:119] From /usr/local/lib/python3.6/dist-packages/keras/backend/tensorflow_backend.py:74: The name tf.get_default_graph is deprecated. Please use tf.compat.v1.get_default_graph instead.\n",
            "\n",
            "W0827 06:59:20.212590 140517615474560 deprecation_wrapper.py:119] From /usr/local/lib/python3.6/dist-packages/keras/backend/tensorflow_backend.py:517: The name tf.placeholder is deprecated. Please use tf.compat.v1.placeholder instead.\n",
            "\n",
            "W0827 06:59:20.802672 140517615474560 deprecation_wrapper.py:119] From /usr/local/lib/python3.6/dist-packages/keras/backend/tensorflow_backend.py:4138: The name tf.random_uniform is deprecated. Please use tf.random.uniform instead.\n",
            "\n",
            "W0827 06:59:20.944375 140517615474560 deprecation_wrapper.py:119] From /usr/local/lib/python3.6/dist-packages/keras/backend/tensorflow_backend.py:133: The name tf.placeholder_with_default is deprecated. Please use tf.compat.v1.placeholder_with_default instead.\n",
            "\n",
            "W0827 06:59:20.955389 140517615474560 deprecation.py:506] From /usr/local/lib/python3.6/dist-packages/keras/backend/tensorflow_backend.py:3445: calling dropout (from tensorflow.python.ops.nn_ops) with keep_prob is deprecated and will be removed in a future version.\n",
            "Instructions for updating:\n",
            "Please use `rate` instead of `keep_prob`. Rate should be set to `rate = 1 - keep_prob`.\n"
          ],
          "name": "stderr"
        }
      ]
    },
    {
      "cell_type": "markdown",
      "metadata": {
        "id": "AlhRxJsF2FWA",
        "colab_type": "text"
      },
      "source": [
        "**Important Note:**\n",
        "\n",
        "CuDNNLSTM requires a GPU to execute. If there is no GPU, use LSTM instead."
      ]
    },
    {
      "cell_type": "code",
      "metadata": {
        "id": "1gMOj97Y0bd0",
        "colab_type": "code",
        "outputId": "4c2b8f59-cac2-4ba6-c39a-2becf5783ce6",
        "colab": {
          "base_uri": "https://localhost:8080/",
          "height": 71
        }
      },
      "source": [
        "#Compiling the RNN\n",
        "regressor.compile(optimizer = 'adam', loss = 'mean_squared_error', metrics = ['mse', 'mae', 'mape', 'cosine'])\n"
      ],
      "execution_count": 0,
      "outputs": [
        {
          "output_type": "stream",
          "text": [
            "W0827 06:59:21.465149 140517615474560 deprecation_wrapper.py:119] From /usr/local/lib/python3.6/dist-packages/keras/optimizers.py:790: The name tf.train.Optimizer is deprecated. Please use tf.compat.v1.train.Optimizer instead.\n",
            "\n"
          ],
          "name": "stderr"
        }
      ]
    },
    {
      "cell_type": "code",
      "metadata": {
        "id": "LcsjQspS0dDP",
        "colab_type": "code",
        "outputId": "fce25a70-ea87-4201-aa92-6fdc78e0b763",
        "colab": {
          "base_uri": "https://localhost:8080/",
          "height": 1000
        }
      },
      "source": [
        "#Fitting the RNN to the Training set and training the RNN\n",
        "regressor.fit(X_train, y_train, epochs = 50, batch_size = 50)"
      ],
      "execution_count": 0,
      "outputs": [
        {
          "output_type": "stream",
          "text": [
            "W0827 06:59:22.506163 140517615474560 deprecation_wrapper.py:119] From /usr/local/lib/python3.6/dist-packages/keras/backend/tensorflow_backend.py:986: The name tf.assign_add is deprecated. Please use tf.compat.v1.assign_add instead.\n",
            "\n"
          ],
          "name": "stderr"
        },
        {
          "output_type": "stream",
          "text": [
            "Epoch 1/50\n",
            "1785/1785 [==============================] - 5s 3ms/step - loss: 0.0077 - mean_squared_error: 0.0077 - mean_absolute_error: 0.0470 - mean_absolute_percentage_error: 18009.5261 - cosine_proximity: -0.7294\n",
            "Epoch 2/50\n",
            "1785/1785 [==============================] - 2s 1ms/step - loss: 0.0025 - mean_squared_error: 0.0025 - mean_absolute_error: 0.0252 - mean_absolute_percentage_error: 10803.5762 - cosine_proximity: -0.7697\n",
            "Epoch 3/50\n",
            "1785/1785 [==============================] - 2s 1ms/step - loss: 0.0024 - mean_squared_error: 0.0024 - mean_absolute_error: 0.0222 - mean_absolute_percentage_error: 4164.4187 - cosine_proximity: -0.7899\n",
            "Epoch 4/50\n",
            "1785/1785 [==============================] - 2s 1ms/step - loss: 0.0020 - mean_squared_error: 0.0020 - mean_absolute_error: 0.0224 - mean_absolute_percentage_error: 4340.1881 - cosine_proximity: -0.8034\n",
            "Epoch 5/50\n",
            "1785/1785 [==============================] - 2s 1ms/step - loss: 0.0021 - mean_squared_error: 0.0021 - mean_absolute_error: 0.0239 - mean_absolute_percentage_error: 8156.7124 - cosine_proximity: -0.7406\n",
            "Epoch 6/50\n",
            "1785/1785 [==============================] - 2s 1ms/step - loss: 0.0018 - mean_squared_error: 0.0018 - mean_absolute_error: 0.0215 - mean_absolute_percentage_error: 5969.5827 - cosine_proximity: -0.8168\n",
            "Epoch 7/50\n",
            "1785/1785 [==============================] - 2s 1ms/step - loss: 0.0023 - mean_squared_error: 0.0023 - mean_absolute_error: 0.0249 - mean_absolute_percentage_error: 8699.5265 - cosine_proximity: -0.7507\n",
            "Epoch 8/50\n",
            "1785/1785 [==============================] - 2s 1ms/step - loss: 0.0013 - mean_squared_error: 0.0013 - mean_absolute_error: 0.0154 - mean_absolute_percentage_error: 2644.6854 - cosine_proximity: -0.8852\n",
            "Epoch 9/50\n",
            "1785/1785 [==============================] - 2s 1ms/step - loss: 0.0013 - mean_squared_error: 0.0013 - mean_absolute_error: 0.0165 - mean_absolute_percentage_error: 1921.0033 - cosine_proximity: -0.8661\n",
            "Epoch 10/50\n",
            "1785/1785 [==============================] - 2s 1ms/step - loss: 0.0015 - mean_squared_error: 0.0015 - mean_absolute_error: 0.0194 - mean_absolute_percentage_error: 2694.8672 - cosine_proximity: -0.8022\n",
            "Epoch 11/50\n",
            "1785/1785 [==============================] - 2s 1ms/step - loss: 0.0018 - mean_squared_error: 0.0018 - mean_absolute_error: 0.0194 - mean_absolute_percentage_error: 5116.7169 - cosine_proximity: -0.8448\n",
            "Epoch 12/50\n",
            "1785/1785 [==============================] - 2s 1ms/step - loss: 0.0017 - mean_squared_error: 0.0017 - mean_absolute_error: 0.0203 - mean_absolute_percentage_error: 1385.7734 - cosine_proximity: -0.8336\n",
            "Epoch 13/50\n",
            "1785/1785 [==============================] - 2s 1ms/step - loss: 0.0013 - mean_squared_error: 0.0013 - mean_absolute_error: 0.0186 - mean_absolute_percentage_error: 3236.8884 - cosine_proximity: -0.7541\n",
            "Epoch 14/50\n",
            "1785/1785 [==============================] - 2s 1ms/step - loss: 0.0017 - mean_squared_error: 0.0017 - mean_absolute_error: 0.0209 - mean_absolute_percentage_error: 6227.0134 - cosine_proximity: -0.7978\n",
            "Epoch 15/50\n",
            "1785/1785 [==============================] - 2s 1ms/step - loss: 0.0017 - mean_squared_error: 0.0017 - mean_absolute_error: 0.0219 - mean_absolute_percentage_error: 6320.4852 - cosine_proximity: -0.7776\n",
            "Epoch 16/50\n",
            "1785/1785 [==============================] - 2s 1ms/step - loss: 0.0012 - mean_squared_error: 0.0012 - mean_absolute_error: 0.0167 - mean_absolute_percentage_error: 12008.1284 - cosine_proximity: -0.8571\n",
            "Epoch 17/50\n",
            "1785/1785 [==============================] - 2s 1ms/step - loss: 0.0013 - mean_squared_error: 0.0013 - mean_absolute_error: 0.0167 - mean_absolute_percentage_error: 8756.1394 - cosine_proximity: -0.8426\n",
            "Epoch 18/50\n",
            "1785/1785 [==============================] - 2s 1ms/step - loss: 0.0011 - mean_squared_error: 0.0011 - mean_absolute_error: 0.0160 - mean_absolute_percentage_error: 2837.8172 - cosine_proximity: -0.8930\n",
            "Epoch 19/50\n",
            "1785/1785 [==============================] - 2s 1ms/step - loss: 0.0011 - mean_squared_error: 0.0011 - mean_absolute_error: 0.0151 - mean_absolute_percentage_error: 3088.6123 - cosine_proximity: -0.8650\n",
            "Epoch 20/50\n",
            "1785/1785 [==============================] - 2s 1ms/step - loss: 0.0011 - mean_squared_error: 0.0011 - mean_absolute_error: 0.0145 - mean_absolute_percentage_error: 6667.4230 - cosine_proximity: -0.8874\n",
            "Epoch 21/50\n",
            "1785/1785 [==============================] - 2s 1ms/step - loss: 0.0010 - mean_squared_error: 0.0010 - mean_absolute_error: 0.0146 - mean_absolute_percentage_error: 2407.4906 - cosine_proximity: -0.9165\n",
            "Epoch 22/50\n",
            "1785/1785 [==============================] - 2s 1ms/step - loss: 0.0011 - mean_squared_error: 0.0011 - mean_absolute_error: 0.0152 - mean_absolute_percentage_error: 4979.8405 - cosine_proximity: -0.8762\n",
            "Epoch 23/50\n",
            "1785/1785 [==============================] - 2s 1ms/step - loss: 0.0013 - mean_squared_error: 0.0013 - mean_absolute_error: 0.0181 - mean_absolute_percentage_error: 8522.3062 - cosine_proximity: -0.8459\n",
            "Epoch 24/50\n",
            "1785/1785 [==============================] - 2s 1ms/step - loss: 0.0010 - mean_squared_error: 0.0010 - mean_absolute_error: 0.0173 - mean_absolute_percentage_error: 4809.5187 - cosine_proximity: -0.8190\n",
            "Epoch 25/50\n",
            "1785/1785 [==============================] - 2s 1ms/step - loss: 0.0011 - mean_squared_error: 0.0011 - mean_absolute_error: 0.0165 - mean_absolute_percentage_error: 2387.5132 - cosine_proximity: -0.8784\n",
            "Epoch 26/50\n",
            "1785/1785 [==============================] - 2s 1ms/step - loss: 8.4352e-04 - mean_squared_error: 8.4352e-04 - mean_absolute_error: 0.0138 - mean_absolute_percentage_error: 2734.3906 - cosine_proximity: -0.9053\n",
            "Epoch 27/50\n",
            "1785/1785 [==============================] - 2s 1ms/step - loss: 0.0013 - mean_squared_error: 0.0013 - mean_absolute_error: 0.0171 - mean_absolute_percentage_error: 2885.4447 - cosine_proximity: -0.8504\n",
            "Epoch 28/50\n",
            "1785/1785 [==============================] - 2s 1ms/step - loss: 0.0011 - mean_squared_error: 0.0011 - mean_absolute_error: 0.0150 - mean_absolute_percentage_error: 2837.8253 - cosine_proximity: -0.8939    \n",
            "Epoch 29/50\n",
            "1785/1785 [==============================] - 2s 1ms/step - loss: 0.0011 - mean_squared_error: 0.0011 - mean_absolute_error: 0.0162 - mean_absolute_percentage_error: 6482.9143 - cosine_proximity: -0.8370\n",
            "Epoch 30/50\n",
            "1785/1785 [==============================] - 2s 1ms/step - loss: 9.0647e-04 - mean_squared_error: 9.0647e-04 - mean_absolute_error: 0.0143 - mean_absolute_percentage_error: 6792.3342 - cosine_proximity: -0.8728\n",
            "Epoch 31/50\n",
            "1785/1785 [==============================] - 2s 1ms/step - loss: 8.9868e-04 - mean_squared_error: 8.9868e-04 - mean_absolute_error: 0.0149 - mean_absolute_percentage_error: 2647.0774 - cosine_proximity: -0.8706\n",
            "Epoch 32/50\n",
            "1785/1785 [==============================] - 2s 1ms/step - loss: 9.6456e-04 - mean_squared_error: 9.6456e-04 - mean_absolute_error: 0.0153 - mean_absolute_percentage_error: 6077.7283 - cosine_proximity: -0.9020\n",
            "Epoch 33/50\n",
            "1785/1785 [==============================] - 2s 1ms/step - loss: 8.7128e-04 - mean_squared_error: 8.7128e-04 - mean_absolute_error: 0.0139 - mean_absolute_percentage_error: 3638.9270 - cosine_proximity: -0.8773\n",
            "Epoch 34/50\n",
            "1785/1785 [==============================] - 2s 1ms/step - loss: 8.9391e-04 - mean_squared_error: 8.9391e-04 - mean_absolute_error: 0.0149 - mean_absolute_percentage_error: 9081.0886 - cosine_proximity: -0.8818\n",
            "Epoch 35/50\n",
            "1785/1785 [==============================] - 2s 1ms/step - loss: 0.0011 - mean_squared_error: 0.0011 - mean_absolute_error: 0.0158 - mean_absolute_percentage_error: 4058.0621 - cosine_proximity: -0.8381\n",
            "Epoch 36/50\n",
            "1785/1785 [==============================] - 2s 1ms/step - loss: 8.8539e-04 - mean_squared_error: 8.8539e-04 - mean_absolute_error: 0.0142 - mean_absolute_percentage_error: 1844.3753 - cosine_proximity: -0.8952\n",
            "Epoch 37/50\n",
            "1785/1785 [==============================] - 2s 1ms/step - loss: 7.1997e-04 - mean_squared_error: 7.1997e-04 - mean_absolute_error: 0.0138 - mean_absolute_percentage_error: 744.7173 - cosine_proximity: -0.8874\n",
            "Epoch 38/50\n",
            "1785/1785 [==============================] - 2s 1ms/step - loss: 8.5203e-04 - mean_squared_error: 8.5203e-04 - mean_absolute_error: 0.0141 - mean_absolute_percentage_error: 2509.2699 - cosine_proximity: -0.8560\n",
            "Epoch 39/50\n",
            "1785/1785 [==============================] - 2s 1ms/step - loss: 7.7423e-04 - mean_squared_error: 7.7423e-04 - mean_absolute_error: 0.0128 - mean_absolute_percentage_error: 5753.5684 - cosine_proximity: -0.9064\n",
            "Epoch 40/50\n",
            "1785/1785 [==============================] - 2s 1ms/step - loss: 9.3172e-04 - mean_squared_error: 9.3172e-04 - mean_absolute_error: 0.0146 - mean_absolute_percentage_error: 2110.8256 - cosine_proximity: -0.8919\n",
            "Epoch 41/50\n",
            "1785/1785 [==============================] - 2s 1ms/step - loss: 8.6544e-04 - mean_squared_error: 8.6544e-04 - mean_absolute_error: 0.0140 - mean_absolute_percentage_error: 5110.7321 - cosine_proximity: -0.8930\n",
            "Epoch 42/50\n",
            "1785/1785 [==============================] - 2s 1ms/step - loss: 7.4404e-04 - mean_squared_error: 7.4404e-04 - mean_absolute_error: 0.0134 - mean_absolute_percentage_error: 6664.2104 - cosine_proximity: -0.8885\n",
            "Epoch 43/50\n",
            "1785/1785 [==============================] - 2s 1ms/step - loss: 6.7202e-04 - mean_squared_error: 6.7202e-04 - mean_absolute_error: 0.0122 - mean_absolute_percentage_error: 1138.9282 - cosine_proximity: -0.9188\n",
            "Epoch 44/50\n",
            "1785/1785 [==============================] - 2s 1ms/step - loss: 6.7981e-04 - mean_squared_error: 6.7981e-04 - mean_absolute_error: 0.0132 - mean_absolute_percentage_error: 7053.9662 - cosine_proximity: -0.8885\n",
            "Epoch 45/50\n",
            "1785/1785 [==============================] - 2s 1ms/step - loss: 9.0329e-04 - mean_squared_error: 9.0329e-04 - mean_absolute_error: 0.0169 - mean_absolute_percentage_error: 10561.0883 - cosine_proximity: -0.8246\n",
            "Epoch 46/50\n",
            "1785/1785 [==============================] - 2s 1ms/step - loss: 7.7247e-04 - mean_squared_error: 7.7247e-04 - mean_absolute_error: 0.0134 - mean_absolute_percentage_error: 2284.1204 - cosine_proximity: -0.9008\n",
            "Epoch 47/50\n",
            "1785/1785 [==============================] - 2s 1ms/step - loss: 0.0010 - mean_squared_error: 0.0010 - mean_absolute_error: 0.0156 - mean_absolute_percentage_error: 3586.5193 - cosine_proximity: -0.8504\n",
            "Epoch 48/50\n",
            "1785/1785 [==============================] - 2s 1ms/step - loss: 0.0012 - mean_squared_error: 0.0012 - mean_absolute_error: 0.0157 - mean_absolute_percentage_error: 9189.7696 - cosine_proximity: -0.8840\n",
            "Epoch 49/50\n",
            "1785/1785 [==============================] - 2s 1ms/step - loss: 8.4159e-04 - mean_squared_error: 8.4159e-04 - mean_absolute_error: 0.0144 - mean_absolute_percentage_error: 8574.3587 - cosine_proximity: -0.8885\n",
            "Epoch 50/50\n",
            "1785/1785 [==============================] - 2s 1ms/step - loss: 7.2619e-04 - mean_squared_error: 7.2619e-04 - mean_absolute_error: 0.0139 - mean_absolute_percentage_error: 15187.0456 - cosine_proximity: -0.8661\n"
          ],
          "name": "stdout"
        },
        {
          "output_type": "execute_result",
          "data": {
            "text/plain": [
              "<keras.callbacks.History at 0x7fccaaa14ba8>"
            ]
          },
          "metadata": {
            "tags": []
          },
          "execution_count": 17
        }
      ]
    },
    {
      "cell_type": "markdown",
      "metadata": {
        "id": "HHS1Tb7-0lqe",
        "colab_type": "text"
      },
      "source": [
        "## Step 5. Predicting For The Test Set"
      ]
    },
    {
      "cell_type": "markdown",
      "metadata": {
        "id": "k6GJXRg-3rlY",
        "colab_type": "text"
      },
      "source": [
        "### 5.1 Preparing Test Data"
      ]
    },
    {
      "cell_type": "code",
      "metadata": {
        "id": "jZF6zlZB4FO8",
        "colab_type": "code",
        "outputId": "65278d6e-790c-41f7-eafe-dbe810b6f769",
        "colab": {
          "base_uri": "https://localhost:8080/",
          "height": 204
        }
      },
      "source": [
        "#Displaying the dataset\n",
        "dataset_test.head()"
      ],
      "execution_count": 0,
      "outputs": [
        {
          "output_type": "execute_result",
          "data": {
            "text/html": [
              "<div>\n",
              "<style scoped>\n",
              "    .dataframe tbody tr th:only-of-type {\n",
              "        vertical-align: middle;\n",
              "    }\n",
              "\n",
              "    .dataframe tbody tr th {\n",
              "        vertical-align: top;\n",
              "    }\n",
              "\n",
              "    .dataframe thead th {\n",
              "        text-align: right;\n",
              "    }\n",
              "</style>\n",
              "<table border=\"1\" class=\"dataframe\">\n",
              "  <thead>\n",
              "    <tr style=\"text-align: right;\">\n",
              "      <th></th>\n",
              "      <th>Date</th>\n",
              "      <th>Open</th>\n",
              "      <th>High</th>\n",
              "      <th>Low</th>\n",
              "      <th>Close</th>\n",
              "      <th>Volume</th>\n",
              "      <th>Market Cap</th>\n",
              "    </tr>\n",
              "  </thead>\n",
              "  <tbody>\n",
              "    <tr>\n",
              "      <th>0</th>\n",
              "      <td>Aug 20, 2019</td>\n",
              "      <td>10916.35</td>\n",
              "      <td>10947.04</td>\n",
              "      <td>10618.96</td>\n",
              "      <td>10763.23</td>\n",
              "      <td>15053082175</td>\n",
              "      <td>192530283565</td>\n",
              "    </tr>\n",
              "    <tr>\n",
              "      <th>1</th>\n",
              "      <td>Aug 19, 2019</td>\n",
              "      <td>10350.28</td>\n",
              "      <td>10916.05</td>\n",
              "      <td>10313.20</td>\n",
              "      <td>10916.05</td>\n",
              "      <td>16038264603</td>\n",
              "      <td>195243306008</td>\n",
              "    </tr>\n",
              "    <tr>\n",
              "      <th>2</th>\n",
              "      <td>Aug 18, 2019</td>\n",
              "      <td>10233.01</td>\n",
              "      <td>10487.07</td>\n",
              "      <td>10119.09</td>\n",
              "      <td>10345.81</td>\n",
              "      <td>12999813869</td>\n",
              "      <td>185022920955</td>\n",
              "    </tr>\n",
              "    <tr>\n",
              "      <th>3</th>\n",
              "      <td>Aug 17, 2019</td>\n",
              "      <td>10358.72</td>\n",
              "      <td>10452.62</td>\n",
              "      <td>10086.70</td>\n",
              "      <td>10231.74</td>\n",
              "      <td>13778035685</td>\n",
              "      <td>182966857173</td>\n",
              "    </tr>\n",
              "    <tr>\n",
              "      <th>4</th>\n",
              "      <td>Aug 16, 2019</td>\n",
              "      <td>10319.42</td>\n",
              "      <td>10524.35</td>\n",
              "      <td>9855.48</td>\n",
              "      <td>10374.34</td>\n",
              "      <td>20228207096</td>\n",
              "      <td>185500055339</td>\n",
              "    </tr>\n",
              "  </tbody>\n",
              "</table>\n",
              "</div>"
            ],
            "text/plain": [
              "           Date      Open      High  ...     Close       Volume    Market Cap\n",
              "0  Aug 20, 2019  10916.35  10947.04  ...  10763.23  15053082175  192530283565\n",
              "1  Aug 19, 2019  10350.28  10916.05  ...  10916.05  16038264603  195243306008\n",
              "2  Aug 18, 2019  10233.01  10487.07  ...  10345.81  12999813869  185022920955\n",
              "3  Aug 17, 2019  10358.72  10452.62  ...  10231.74  13778035685  182966857173\n",
              "4  Aug 16, 2019  10319.42  10524.35  ...  10374.34  20228207096  185500055339\n",
              "\n",
              "[5 rows x 7 columns]"
            ]
          },
          "metadata": {
            "tags": []
          },
          "execution_count": 18
        }
      ]
    },
    {
      "cell_type": "code",
      "metadata": {
        "colab_type": "code",
        "id": "W0yV-yvHufeC",
        "outputId": "a68b2a48-0050-4fdb-a461-3bbaf2718d21",
        "colab": {
          "base_uri": "https://localhost:8080/",
          "height": 119
        }
      },
      "source": [
        "#Converting the Date colum values from object to datetime format\n",
        "dataset_test['Date'] = pd.to_datetime(dataset_test['Date'])"
      ],
      "execution_count": 0,
      "outputs": [
        {
          "output_type": "stream",
          "text": [
            "/usr/local/lib/python3.6/dist-packages/ipykernel_launcher.py:1: SettingWithCopyWarning: \n",
            "A value is trying to be set on a copy of a slice from a DataFrame.\n",
            "Try using .loc[row_indexer,col_indexer] = value instead\n",
            "\n",
            "See the caveats in the documentation: http://pandas.pydata.org/pandas-docs/stable/indexing.html#indexing-view-versus-copy\n",
            "  \"\"\"Entry point for launching an IPython kernel.\n"
          ],
          "name": "stderr"
        }
      ]
    },
    {
      "cell_type": "code",
      "metadata": {
        "colab_type": "code",
        "id": "YGOpdYdHufeH",
        "colab": {}
      },
      "source": [
        "#Setting the Date column as Index to the dataset\n",
        "dataset_test.set_index('Date', inplace = True)"
      ],
      "execution_count": 0,
      "outputs": []
    },
    {
      "cell_type": "code",
      "metadata": {
        "colab_type": "code",
        "id": "ijeQvGrDufeP",
        "outputId": "c0cd0e93-7419-4103-960e-c255c18471c2",
        "colab": {
          "base_uri": "https://localhost:8080/",
          "height": 102
        }
      },
      "source": [
        "#Sorting the data based on Increasing value of date\n",
        "dataset_test.sort_values(by='Date',ascending=True, inplace = True)"
      ],
      "execution_count": 0,
      "outputs": [
        {
          "output_type": "stream",
          "text": [
            "/usr/local/lib/python3.6/dist-packages/ipykernel_launcher.py:1: SettingWithCopyWarning: \n",
            "A value is trying to be set on a copy of a slice from a DataFrame\n",
            "\n",
            "See the caveats in the documentation: http://pandas.pydata.org/pandas-docs/stable/indexing.html#indexing-view-versus-copy\n",
            "  \"\"\"Entry point for launching an IPython kernel.\n"
          ],
          "name": "stderr"
        }
      ]
    },
    {
      "cell_type": "code",
      "metadata": {
        "colab_type": "code",
        "outputId": "fdb01d7e-c389-4105-c7e1-d3dd7cae61e6",
        "id": "JUtSe1THufeK",
        "colab": {
          "base_uri": "https://localhost:8080/",
          "height": 235
        }
      },
      "source": [
        "#Displaying the prepared dataset\n",
        "dataset_test.head()"
      ],
      "execution_count": 0,
      "outputs": [
        {
          "output_type": "execute_result",
          "data": {
            "text/html": [
              "<div>\n",
              "<style scoped>\n",
              "    .dataframe tbody tr th:only-of-type {\n",
              "        vertical-align: middle;\n",
              "    }\n",
              "\n",
              "    .dataframe tbody tr th {\n",
              "        vertical-align: top;\n",
              "    }\n",
              "\n",
              "    .dataframe thead th {\n",
              "        text-align: right;\n",
              "    }\n",
              "</style>\n",
              "<table border=\"1\" class=\"dataframe\">\n",
              "  <thead>\n",
              "    <tr style=\"text-align: right;\">\n",
              "      <th></th>\n",
              "      <th>Open</th>\n",
              "      <th>High</th>\n",
              "      <th>Low</th>\n",
              "      <th>Close</th>\n",
              "      <th>Volume</th>\n",
              "      <th>Market Cap</th>\n",
              "    </tr>\n",
              "    <tr>\n",
              "      <th>Date</th>\n",
              "      <th></th>\n",
              "      <th></th>\n",
              "      <th></th>\n",
              "      <th></th>\n",
              "      <th></th>\n",
              "      <th></th>\n",
              "    </tr>\n",
              "  </thead>\n",
              "  <tbody>\n",
              "    <tr>\n",
              "      <th>2018-05-17</th>\n",
              "      <td>8370.05</td>\n",
              "      <td>8445.54</td>\n",
              "      <td>8054.12</td>\n",
              "      <td>8094.32</td>\n",
              "      <td>5862530048</td>\n",
              "      <td>137923772714</td>\n",
              "    </tr>\n",
              "    <tr>\n",
              "      <th>2018-05-18</th>\n",
              "      <td>8091.83</td>\n",
              "      <td>8274.12</td>\n",
              "      <td>7974.82</td>\n",
              "      <td>8250.97</td>\n",
              "      <td>5764190208</td>\n",
              "      <td>140607667610</td>\n",
              "    </tr>\n",
              "    <tr>\n",
              "      <th>2018-05-19</th>\n",
              "      <td>8255.73</td>\n",
              "      <td>8372.06</td>\n",
              "      <td>8183.35</td>\n",
              "      <td>8247.18</td>\n",
              "      <td>4712399872</td>\n",
              "      <td>140559162894</td>\n",
              "    </tr>\n",
              "    <tr>\n",
              "      <th>2018-05-20</th>\n",
              "      <td>8246.99</td>\n",
              "      <td>8562.41</td>\n",
              "      <td>8205.24</td>\n",
              "      <td>8513.25</td>\n",
              "      <td>5191059968</td>\n",
              "      <td>145109512565</td>\n",
              "    </tr>\n",
              "    <tr>\n",
              "      <th>2018-05-21</th>\n",
              "      <td>8522.33</td>\n",
              "      <td>8557.52</td>\n",
              "      <td>8365.12</td>\n",
              "      <td>8418.99</td>\n",
              "      <td>5154990080</td>\n",
              "      <td>143518943480</td>\n",
              "    </tr>\n",
              "  </tbody>\n",
              "</table>\n",
              "</div>"
            ],
            "text/plain": [
              "               Open     High      Low    Close      Volume    Market Cap\n",
              "Date                                                                    \n",
              "2018-05-17  8370.05  8445.54  8054.12  8094.32  5862530048  137923772714\n",
              "2018-05-18  8091.83  8274.12  7974.82  8250.97  5764190208  140607667610\n",
              "2018-05-19  8255.73  8372.06  8183.35  8247.18  4712399872  140559162894\n",
              "2018-05-20  8246.99  8562.41  8205.24  8513.25  5191059968  145109512565\n",
              "2018-05-21  8522.33  8557.52  8365.12  8418.99  5154990080  143518943480"
            ]
          },
          "metadata": {
            "tags": []
          },
          "execution_count": 22
        }
      ]
    },
    {
      "cell_type": "code",
      "metadata": {
        "id": "5qJoK5cLtHqb",
        "colab_type": "code",
        "outputId": "2ff3afc9-c0eb-4b14-84e9-eec2646497d4",
        "colab": {
          "base_uri": "https://localhost:8080/",
          "height": 34
        }
      },
      "source": [
        "dataset_test.shape"
      ],
      "execution_count": 0,
      "outputs": [
        {
          "output_type": "execute_result",
          "data": {
            "text/plain": [
              "(461, 6)"
            ]
          },
          "metadata": {
            "tags": []
          },
          "execution_count": 23
        }
      ]
    },
    {
      "cell_type": "markdown",
      "metadata": {
        "id": "NDNocNP2rqyk",
        "colab_type": "text"
      },
      "source": [
        "Now we have arranged the test data in increasing order of dates. How ever the test data is still not prepared for forecasting. In order to predict the the closing price of the first day in the test set we will require the closing prices of the previous 60 days. So we will attach the closing prices of the previous 60 days from the training set to the test set."
      ]
    },
    {
      "cell_type": "code",
      "metadata": {
        "id": "OWaDf6ee75I4",
        "colab_type": "code",
        "colab": {}
      },
      "source": [
        "#Adding the previous 60 days cosing price to the test data\n",
        "test_set = pd.concat((dataset_train.tail(sequence_length), dataset_test), axis = 0)"
      ],
      "execution_count": 0,
      "outputs": []
    },
    {
      "cell_type": "code",
      "metadata": {
        "id": "Z5lQy0UNtvGj",
        "colab_type": "code",
        "outputId": "324d747a-751c-4ccf-fcfc-2adbc6802229",
        "colab": {
          "base_uri": "https://localhost:8080/",
          "height": 390
        }
      },
      "source": [
        "test_set.head(10)"
      ],
      "execution_count": 0,
      "outputs": [
        {
          "output_type": "execute_result",
          "data": {
            "text/html": [
              "<div>\n",
              "<style scoped>\n",
              "    .dataframe tbody tr th:only-of-type {\n",
              "        vertical-align: middle;\n",
              "    }\n",
              "\n",
              "    .dataframe tbody tr th {\n",
              "        vertical-align: top;\n",
              "    }\n",
              "\n",
              "    .dataframe thead th {\n",
              "        text-align: right;\n",
              "    }\n",
              "</style>\n",
              "<table border=\"1\" class=\"dataframe\">\n",
              "  <thead>\n",
              "    <tr style=\"text-align: right;\">\n",
              "      <th></th>\n",
              "      <th>Open</th>\n",
              "      <th>High</th>\n",
              "      <th>Low</th>\n",
              "      <th>Close</th>\n",
              "      <th>Volume</th>\n",
              "      <th>Market Cap</th>\n",
              "    </tr>\n",
              "    <tr>\n",
              "      <th>Date</th>\n",
              "      <th></th>\n",
              "      <th></th>\n",
              "      <th></th>\n",
              "      <th></th>\n",
              "      <th></th>\n",
              "      <th></th>\n",
              "    </tr>\n",
              "  </thead>\n",
              "  <tbody>\n",
              "    <tr>\n",
              "      <th>2018-03-18</th>\n",
              "      <td>7890.52</td>\n",
              "      <td>8245.51</td>\n",
              "      <td>7397.99</td>\n",
              "      <td>8223.68</td>\n",
              "      <td>6639190016</td>\n",
              "      <td>139201713268</td>\n",
              "    </tr>\n",
              "    <tr>\n",
              "      <th>2018-03-19</th>\n",
              "      <td>8344.12</td>\n",
              "      <td>8675.87</td>\n",
              "      <td>8182.40</td>\n",
              "      <td>8630.65</td>\n",
              "      <td>6729110016</td>\n",
              "      <td>146107514353</td>\n",
              "    </tr>\n",
              "    <tr>\n",
              "      <th>2018-03-20</th>\n",
              "      <td>8619.67</td>\n",
              "      <td>9051.02</td>\n",
              "      <td>8389.89</td>\n",
              "      <td>8913.47</td>\n",
              "      <td>6361789952</td>\n",
              "      <td>150909503835</td>\n",
              "    </tr>\n",
              "    <tr>\n",
              "      <th>2018-03-21</th>\n",
              "      <td>8937.48</td>\n",
              "      <td>9177.37</td>\n",
              "      <td>8846.33</td>\n",
              "      <td>8929.28</td>\n",
              "      <td>6043129856</td>\n",
              "      <td>151193917440</td>\n",
              "    </tr>\n",
              "    <tr>\n",
              "      <th>2018-03-22</th>\n",
              "      <td>8939.44</td>\n",
              "      <td>9100.71</td>\n",
              "      <td>8564.90</td>\n",
              "      <td>8728.47</td>\n",
              "      <td>5530390016</td>\n",
              "      <td>147809220250</td>\n",
              "    </tr>\n",
              "    <tr>\n",
              "      <th>2018-03-23</th>\n",
              "      <td>8736.25</td>\n",
              "      <td>8879.62</td>\n",
              "      <td>8360.62</td>\n",
              "      <td>8879.62</td>\n",
              "      <td>5954120192</td>\n",
              "      <td>150383574951</td>\n",
              "    </tr>\n",
              "    <tr>\n",
              "      <th>2018-03-24</th>\n",
              "      <td>8901.95</td>\n",
              "      <td>8996.18</td>\n",
              "      <td>8665.70</td>\n",
              "      <td>8668.12</td>\n",
              "      <td>5664600064</td>\n",
              "      <td>146818882936</td>\n",
              "    </tr>\n",
              "    <tr>\n",
              "      <th>2018-03-25</th>\n",
              "      <td>8612.81</td>\n",
              "      <td>8682.01</td>\n",
              "      <td>8449.10</td>\n",
              "      <td>8495.78</td>\n",
              "      <td>4569880064</td>\n",
              "      <td>143914265310</td>\n",
              "    </tr>\n",
              "    <tr>\n",
              "      <th>2018-03-26</th>\n",
              "      <td>8498.47</td>\n",
              "      <td>8530.08</td>\n",
              "      <td>7921.43</td>\n",
              "      <td>8209.40</td>\n",
              "      <td>5921039872</td>\n",
              "      <td>139078211968</td>\n",
              "    </tr>\n",
              "    <tr>\n",
              "      <th>2018-03-27</th>\n",
              "      <td>8200.00</td>\n",
              "      <td>8232.78</td>\n",
              "      <td>7797.28</td>\n",
              "      <td>7833.04</td>\n",
              "      <td>5378250240</td>\n",
              "      <td>132717053150</td>\n",
              "    </tr>\n",
              "  </tbody>\n",
              "</table>\n",
              "</div>"
            ],
            "text/plain": [
              "               Open     High      Low    Close      Volume    Market Cap\n",
              "Date                                                                    \n",
              "2018-03-18  7890.52  8245.51  7397.99  8223.68  6639190016  139201713268\n",
              "2018-03-19  8344.12  8675.87  8182.40  8630.65  6729110016  146107514353\n",
              "2018-03-20  8619.67  9051.02  8389.89  8913.47  6361789952  150909503835\n",
              "2018-03-21  8937.48  9177.37  8846.33  8929.28  6043129856  151193917440\n",
              "2018-03-22  8939.44  9100.71  8564.90  8728.47  5530390016  147809220250\n",
              "2018-03-23  8736.25  8879.62  8360.62  8879.62  5954120192  150383574951\n",
              "2018-03-24  8901.95  8996.18  8665.70  8668.12  5664600064  146818882936\n",
              "2018-03-25  8612.81  8682.01  8449.10  8495.78  4569880064  143914265310\n",
              "2018-03-26  8498.47  8530.08  7921.43  8209.40  5921039872  139078211968\n",
              "2018-03-27  8200.00  8232.78  7797.28  7833.04  5378250240  132717053150"
            ]
          },
          "metadata": {
            "tags": []
          },
          "execution_count": 25
        }
      ]
    },
    {
      "cell_type": "code",
      "metadata": {
        "id": "xBQdpSGw8l4i",
        "colab_type": "code",
        "outputId": "68da303e-d7f7-4fab-bca4-fd0a9f9f3dff",
        "colab": {
          "base_uri": "https://localhost:8080/",
          "height": 34
        }
      },
      "source": [
        "test_set.shape"
      ],
      "execution_count": 0,
      "outputs": [
        {
          "output_type": "execute_result",
          "data": {
            "text/plain": [
              "(521, 6)"
            ]
          },
          "metadata": {
            "tags": []
          },
          "execution_count": 26
        }
      ]
    },
    {
      "cell_type": "markdown",
      "metadata": {
        "id": "QjQSuzf0wxFv",
        "colab_type": "text"
      },
      "source": [
        "Now test set has 521 rows (461 + 60) and is ready to be preprocessed."
      ]
    },
    {
      "cell_type": "code",
      "metadata": {
        "id": "kHufio7c8q1h",
        "colab_type": "code",
        "colab": {}
      },
      "source": [
        "#Preprocessing the test data\n",
        "x_test, y_true = bit_pre_process(test_set , sequence_length, comumn_index)"
      ],
      "execution_count": 0,
      "outputs": []
    },
    {
      "cell_type": "code",
      "metadata": {
        "id": "6X1eIS6t_X8d",
        "colab_type": "code",
        "outputId": "02956e61-b28b-4a24-917c-5db1f1ab3faf",
        "colab": {
          "base_uri": "https://localhost:8080/",
          "height": 34
        }
      },
      "source": [
        "x_test.shape"
      ],
      "execution_count": 0,
      "outputs": [
        {
          "output_type": "execute_result",
          "data": {
            "text/plain": [
              "(461, 60, 1)"
            ]
          },
          "metadata": {
            "tags": []
          },
          "execution_count": 28
        }
      ]
    },
    {
      "cell_type": "code",
      "metadata": {
        "id": "loznRTDUU96i",
        "colab_type": "code",
        "outputId": "59f951af-a526-42aa-8937-899b908729c6",
        "colab": {
          "base_uri": "https://localhost:8080/",
          "height": 34
        }
      },
      "source": [
        "y_true.shape"
      ],
      "execution_count": 0,
      "outputs": [
        {
          "output_type": "execute_result",
          "data": {
            "text/plain": [
              "(461,)"
            ]
          },
          "metadata": {
            "tags": []
          },
          "execution_count": 29
        }
      ]
    },
    {
      "cell_type": "code",
      "metadata": {
        "id": "q522kNAKVcoC",
        "colab_type": "code",
        "colab": {}
      },
      "source": [
        "#Predicting the closing price of the test data\n",
        "predicted_stock_price = regressor.predict(x_test)"
      ],
      "execution_count": 0,
      "outputs": []
    },
    {
      "cell_type": "code",
      "metadata": {
        "id": "ZU4fwVzY1ez2",
        "colab_type": "code",
        "colab": {}
      },
      "source": [
        "#Inversing the scaled values \n",
        "predicted_stock_price = sc.inverse_transform(predicted_stock_price)"
      ],
      "execution_count": 0,
      "outputs": []
    },
    {
      "cell_type": "code",
      "metadata": {
        "id": "c672JItLVqf5",
        "colab_type": "code",
        "colab": {}
      },
      "source": [
        "#Inversing the scaled actual prices from test data\n",
        "real_stock_price = sc.inverse_transform(y_true.reshape(-1, 1))"
      ],
      "execution_count": 0,
      "outputs": []
    },
    {
      "cell_type": "markdown",
      "metadata": {
        "id": "rLPRoe5tt8Xf",
        "colab_type": "text"
      },
      "source": [
        "## Step 6. Visualizing The Prediction"
      ]
    },
    {
      "cell_type": "code",
      "metadata": {
        "id": "JlCyB8w4WDdJ",
        "colab_type": "code",
        "colab": {}
      },
      "source": [
        "\n",
        "# A Method to plot predicted pirce vs Actual price\n",
        "def plot_predictions(real_price, predicted_price, title, x_label, y_label):\n",
        "  plt.plot(real_price, color = 'green', label = 'Real Stock Price')\n",
        "  plt.plot(predicted_price, color = 'red', label = 'Predicted Stock Price')\n",
        "  plt.title(title)\n",
        "  plt.xlabel('Time')\n",
        "  plt.ylabel('Google Stock Price')\n",
        "  plt.legend()\n",
        "  plt.show()"
      ],
      "execution_count": 0,
      "outputs": []
    },
    {
      "cell_type": "code",
      "metadata": {
        "id": "vqRXlx85aL2m",
        "colab_type": "code",
        "outputId": "00cbf69e-346c-4a17-af56-f9f4cfed9e97",
        "colab": {
          "base_uri": "https://localhost:8080/",
          "height": 295
        }
      },
      "source": [
        "#Plotting real_stock_pric vs predicted_stock_price\n",
        "plot_predictions(real_stock_price, predicted_stock_price, \"Bitcoin Closing Price Prediction\", \"Time\", \"Closing Price\")"
      ],
      "execution_count": 0,
      "outputs": [
        {
          "output_type": "display_data",
          "data": {
            "image/png": "[encoded data removed]",
            "text/plain": [
              "<Figure size 432x288 with 1 Axes>"
            ]
          },
          "metadata": {
            "tags": []
          }
        }
      ]
    },
    {
      "cell_type": "markdown",
      "metadata": {
        "id": "QkRH8hk2uZah",
        "colab_type": "text"
      },
      "source": [
        "## Step 7. Comparing the Predicted and Actual prices"
      ]
    },
    {
      "cell_type": "code",
      "metadata": {
        "id": "_okB5Ew714KD",
        "colab_type": "code",
        "outputId": "67d6050c-79c7-406c-a814-506db1c400c0",
        "colab": {
          "base_uri": "https://localhost:8080/",
          "height": 119
        }
      },
      "source": [
        "dataset_test['Predicted_Close'] = predicted_stock_price"
      ],
      "execution_count": 0,
      "outputs": [
        {
          "output_type": "stream",
          "text": [
            "/usr/local/lib/python3.6/dist-packages/ipykernel_launcher.py:1: SettingWithCopyWarning: \n",
            "A value is trying to be set on a copy of a slice from a DataFrame.\n",
            "Try using .loc[row_indexer,col_indexer] = value instead\n",
            "\n",
            "See the caveats in the documentation: http://pandas.pydata.org/pandas-docs/stable/indexing.html#indexing-view-versus-copy\n",
            "  \"\"\"Entry point for launching an IPython kernel.\n"
          ],
          "name": "stderr"
        }
      ]
    },
    {
      "cell_type": "code",
      "metadata": {
        "id": "OrIHqzf62KZn",
        "colab_type": "code",
        "colab": {}
      },
      "source": [
        "compare = dataset_test[['Open','Close','Predicted_Close' ]]"
      ],
      "execution_count": 0,
      "outputs": []
    },
    {
      "cell_type": "code",
      "metadata": {
        "id": "sq-lb2YZ2kmU",
        "colab_type": "code",
        "outputId": "5ed5a0ac-8b72-440b-ac7f-980128afdc35",
        "colab": {
          "base_uri": "https://localhost:8080/",
          "height": 700
        }
      },
      "source": [
        "compare.head(20)"
      ],
      "execution_count": 0,
      "outputs": [
        {
          "output_type": "execute_result",
          "data": {
            "text/html": [
              "<div>\n",
              "<style scoped>\n",
              "    .dataframe tbody tr th:only-of-type {\n",
              "        vertical-align: middle;\n",
              "    }\n",
              "\n",
              "    .dataframe tbody tr th {\n",
              "        vertical-align: top;\n",
              "    }\n",
              "\n",
              "    .dataframe thead th {\n",
              "        text-align: right;\n",
              "    }\n",
              "</style>\n",
              "<table border=\"1\" class=\"dataframe\">\n",
              "  <thead>\n",
              "    <tr style=\"text-align: right;\">\n",
              "      <th></th>\n",
              "      <th>Open</th>\n",
              "      <th>Close</th>\n",
              "      <th>Predicted_Close</th>\n",
              "    </tr>\n",
              "    <tr>\n",
              "      <th>Date</th>\n",
              "      <th></th>\n",
              "      <th></th>\n",
              "      <th></th>\n",
              "    </tr>\n",
              "  </thead>\n",
              "  <tbody>\n",
              "    <tr>\n",
              "      <th>2018-05-17</th>\n",
              "      <td>8370.05</td>\n",
              "      <td>8094.32</td>\n",
              "      <td>8139.000488</td>\n",
              "    </tr>\n",
              "    <tr>\n",
              "      <th>2018-05-18</th>\n",
              "      <td>8091.83</td>\n",
              "      <td>8250.97</td>\n",
              "      <td>8074.370605</td>\n",
              "    </tr>\n",
              "    <tr>\n",
              "      <th>2018-05-19</th>\n",
              "      <td>8255.73</td>\n",
              "      <td>8247.18</td>\n",
              "      <td>8019.656738</td>\n",
              "    </tr>\n",
              "    <tr>\n",
              "      <th>2018-05-20</th>\n",
              "      <td>8246.99</td>\n",
              "      <td>8513.25</td>\n",
              "      <td>7979.665527</td>\n",
              "    </tr>\n",
              "    <tr>\n",
              "      <th>2018-05-21</th>\n",
              "      <td>8522.33</td>\n",
              "      <td>8418.99</td>\n",
              "      <td>7977.018066</td>\n",
              "    </tr>\n",
              "    <tr>\n",
              "      <th>2018-05-22</th>\n",
              "      <td>8419.87</td>\n",
              "      <td>8041.78</td>\n",
              "      <td>8004.270996</td>\n",
              "    </tr>\n",
              "    <tr>\n",
              "      <th>2018-05-23</th>\n",
              "      <td>8037.08</td>\n",
              "      <td>7557.82</td>\n",
              "      <td>8016.127441</td>\n",
              "    </tr>\n",
              "    <tr>\n",
              "      <th>2018-05-24</th>\n",
              "      <td>7561.12</td>\n",
              "      <td>7587.34</td>\n",
              "      <td>7957.745117</td>\n",
              "    </tr>\n",
              "    <tr>\n",
              "      <th>2018-05-25</th>\n",
              "      <td>7592.30</td>\n",
              "      <td>7480.14</td>\n",
              "      <td>7833.638184</td>\n",
              "    </tr>\n",
              "    <tr>\n",
              "      <th>2018-05-26</th>\n",
              "      <td>7486.48</td>\n",
              "      <td>7355.88</td>\n",
              "      <td>7665.571289</td>\n",
              "    </tr>\n",
              "    <tr>\n",
              "      <th>2018-05-27</th>\n",
              "      <td>7362.08</td>\n",
              "      <td>7368.22</td>\n",
              "      <td>7477.207520</td>\n",
              "    </tr>\n",
              "    <tr>\n",
              "      <th>2018-05-28</th>\n",
              "      <td>7371.31</td>\n",
              "      <td>7135.99</td>\n",
              "      <td>7297.096680</td>\n",
              "    </tr>\n",
              "    <tr>\n",
              "      <th>2018-05-29</th>\n",
              "      <td>7129.46</td>\n",
              "      <td>7472.59</td>\n",
              "      <td>7132.546387</td>\n",
              "    </tr>\n",
              "    <tr>\n",
              "      <th>2018-05-30</th>\n",
              "      <td>7469.73</td>\n",
              "      <td>7406.52</td>\n",
              "      <td>7016.155762</td>\n",
              "    </tr>\n",
              "    <tr>\n",
              "      <th>2018-05-31</th>\n",
              "      <td>7406.15</td>\n",
              "      <td>7494.17</td>\n",
              "      <td>6957.131836</td>\n",
              "    </tr>\n",
              "    <tr>\n",
              "      <th>2018-06-01</th>\n",
              "      <td>7500.70</td>\n",
              "      <td>7541.45</td>\n",
              "      <td>6956.908203</td>\n",
              "    </tr>\n",
              "    <tr>\n",
              "      <th>2018-06-02</th>\n",
              "      <td>7536.72</td>\n",
              "      <td>7643.45</td>\n",
              "      <td>7006.829102</td>\n",
              "    </tr>\n",
              "    <tr>\n",
              "      <th>2018-06-03</th>\n",
              "      <td>7632.09</td>\n",
              "      <td>7720.25</td>\n",
              "      <td>7095.749512</td>\n",
              "    </tr>\n",
              "    <tr>\n",
              "      <th>2018-06-04</th>\n",
              "      <td>7722.53</td>\n",
              "      <td>7514.47</td>\n",
              "      <td>7209.402832</td>\n",
              "    </tr>\n",
              "    <tr>\n",
              "      <th>2018-06-05</th>\n",
              "      <td>7500.90</td>\n",
              "      <td>7633.76</td>\n",
              "      <td>7311.774414</td>\n",
              "    </tr>\n",
              "  </tbody>\n",
              "</table>\n",
              "</div>"
            ],
            "text/plain": [
              "               Open    Close  Predicted_Close\n",
              "Date                                         \n",
              "2018-05-17  8370.05  8094.32      8139.000488\n",
              "2018-05-18  8091.83  8250.97      8074.370605\n",
              "2018-05-19  8255.73  8247.18      8019.656738\n",
              "2018-05-20  8246.99  8513.25      7979.665527\n",
              "2018-05-21  8522.33  8418.99      7977.018066\n",
              "2018-05-22  8419.87  8041.78      8004.270996\n",
              "2018-05-23  8037.08  7557.82      8016.127441\n",
              "2018-05-24  7561.12  7587.34      7957.745117\n",
              "2018-05-25  7592.30  7480.14      7833.638184\n",
              "2018-05-26  7486.48  7355.88      7665.571289\n",
              "2018-05-27  7362.08  7368.22      7477.207520\n",
              "2018-05-28  7371.31  7135.99      7297.096680\n",
              "2018-05-29  7129.46  7472.59      7132.546387\n",
              "2018-05-30  7469.73  7406.52      7016.155762\n",
              "2018-05-31  7406.15  7494.17      6957.131836\n",
              "2018-06-01  7500.70  7541.45      6956.908203\n",
              "2018-06-02  7536.72  7643.45      7006.829102\n",
              "2018-06-03  7632.09  7720.25      7095.749512\n",
              "2018-06-04  7722.53  7514.47      7209.402832\n",
              "2018-06-05  7500.90  7633.76      7311.774414"
            ]
          },
          "metadata": {
            "tags": []
          },
          "execution_count": 37
        }
      ]
    },
    {
      "cell_type": "markdown",
      "metadata": {
        "id": "uc74FsC92HWH",
        "colab_type": "text"
      },
      "source": [
        "## Step 8. Further Analysis - Buy or Sell"
      ]
    },
    {
      "cell_type": "markdown",
      "metadata": {
        "id": "Zk7H8132ypyn",
        "colab_type": "text"
      },
      "source": [
        "In this step we will simply analyse the predicted and real closing prices and based on the data we will decide whether it is good to buy or sell the Bitcoins.\n",
        "\n",
        "Condition :\n",
        "\n",
        "If the closing price is greater than the opening price we will decide to sell the coins, otherwise will will buy more coins.\n",
        "\n"
      ]
    },
    {
      "cell_type": "code",
      "metadata": {
        "id": "qN8ZGbTG29ko",
        "colab_type": "code",
        "colab": {}
      },
      "source": [
        "#A function to decide buy or sell (1 for sell and 0 for buy)\n",
        "\n",
        "def buy_sell(op, cl):\n",
        "  \n",
        "  #If closing price is greater than the opening price, its a buy\n",
        "  if cl > op:    \n",
        "    return 1\n",
        "  #If closing price is lesser than the opening price, its a sell \n",
        "  else:\n",
        "    return 0\n",
        "      "
      ],
      "execution_count": 0,
      "outputs": []
    },
    {
      "cell_type": "code",
      "metadata": {
        "id": "-hPnwtJS3QJ2",
        "colab_type": "code",
        "outputId": "2e7f4f9a-a1e1-42b7-abca-d51799a7793c",
        "colab": {
          "base_uri": "https://localhost:8080/",
          "height": 119
        }
      },
      "source": [
        "#Mapping the buy_sell method to the actual closing price in the test data and saving it as a column\n",
        "compare[\"Buy-(Actual)\"] = list(map(buy_sell, compare['Open'], compare['Close']))"
      ],
      "execution_count": 0,
      "outputs": [
        {
          "output_type": "stream",
          "text": [
            "/usr/local/lib/python3.6/dist-packages/ipykernel_launcher.py:1: SettingWithCopyWarning: \n",
            "A value is trying to be set on a copy of a slice from a DataFrame.\n",
            "Try using .loc[row_indexer,col_indexer] = value instead\n",
            "\n",
            "See the caveats in the documentation: http://pandas.pydata.org/pandas-docs/stable/indexing.html#indexing-view-versus-copy\n",
            "  \"\"\"Entry point for launching an IPython kernel.\n"
          ],
          "name": "stderr"
        }
      ]
    },
    {
      "cell_type": "code",
      "metadata": {
        "id": "tki3AZup4adv",
        "colab_type": "code",
        "outputId": "083ccdeb-891a-47f3-f669-e9a3127e54a4",
        "colab": {
          "base_uri": "https://localhost:8080/",
          "height": 119
        }
      },
      "source": [
        "#Mapping the buy_sell method to the predicted closing price in the test data and saving it as a column\n",
        "compare[\"Buy-(Predicted)\"] = list(map(buy_sell, compare['Open'], compare['Predicted_Close']))"
      ],
      "execution_count": 0,
      "outputs": [
        {
          "output_type": "stream",
          "text": [
            "/usr/local/lib/python3.6/dist-packages/ipykernel_launcher.py:1: SettingWithCopyWarning: \n",
            "A value is trying to be set on a copy of a slice from a DataFrame.\n",
            "Try using .loc[row_indexer,col_indexer] = value instead\n",
            "\n",
            "See the caveats in the documentation: http://pandas.pydata.org/pandas-docs/stable/indexing.html#indexing-view-versus-copy\n",
            "  \"\"\"Entry point for launching an IPython kernel.\n"
          ],
          "name": "stderr"
        }
      ]
    },
    {
      "cell_type": "code",
      "metadata": {
        "id": "2kefDiR54UFA",
        "colab_type": "code",
        "outputId": "e7f5e408-2694-4e6b-a4e0-80d9cd1cc8f9",
        "colab": {
          "base_uri": "https://localhost:8080/",
          "height": 390
        }
      },
      "source": [
        "#Printing the new dataframe\n",
        "compare.head(10)"
      ],
      "execution_count": 0,
      "outputs": [
        {
          "output_type": "execute_result",
          "data": {
            "text/html": [
              "<div>\n",
              "<style scoped>\n",
              "    .dataframe tbody tr th:only-of-type {\n",
              "        vertical-align: middle;\n",
              "    }\n",
              "\n",
              "    .dataframe tbody tr th {\n",
              "        vertical-align: top;\n",
              "    }\n",
              "\n",
              "    .dataframe thead th {\n",
              "        text-align: right;\n",
              "    }\n",
              "</style>\n",
              "<table border=\"1\" class=\"dataframe\">\n",
              "  <thead>\n",
              "    <tr style=\"text-align: right;\">\n",
              "      <th></th>\n",
              "      <th>Open</th>\n",
              "      <th>Close</th>\n",
              "      <th>Predicted_Close</th>\n",
              "      <th>Buy-(Actual)</th>\n",
              "      <th>Buy-(Predicted)</th>\n",
              "    </tr>\n",
              "    <tr>\n",
              "      <th>Date</th>\n",
              "      <th></th>\n",
              "      <th></th>\n",
              "      <th></th>\n",
              "      <th></th>\n",
              "      <th></th>\n",
              "    </tr>\n",
              "  </thead>\n",
              "  <tbody>\n",
              "    <tr>\n",
              "      <th>2018-05-17</th>\n",
              "      <td>8370.05</td>\n",
              "      <td>8094.32</td>\n",
              "      <td>8139.000488</td>\n",
              "      <td>0</td>\n",
              "      <td>0</td>\n",
              "    </tr>\n",
              "    <tr>\n",
              "      <th>2018-05-18</th>\n",
              "      <td>8091.83</td>\n",
              "      <td>8250.97</td>\n",
              "      <td>8074.370605</td>\n",
              "      <td>1</td>\n",
              "      <td>0</td>\n",
              "    </tr>\n",
              "    <tr>\n",
              "      <th>2018-05-19</th>\n",
              "      <td>8255.73</td>\n",
              "      <td>8247.18</td>\n",
              "      <td>8019.656738</td>\n",
              "      <td>0</td>\n",
              "      <td>0</td>\n",
              "    </tr>\n",
              "    <tr>\n",
              "      <th>2018-05-20</th>\n",
              "      <td>8246.99</td>\n",
              "      <td>8513.25</td>\n",
              "      <td>7979.665527</td>\n",
              "      <td>1</td>\n",
              "      <td>0</td>\n",
              "    </tr>\n",
              "    <tr>\n",
              "      <th>2018-05-21</th>\n",
              "      <td>8522.33</td>\n",
              "      <td>8418.99</td>\n",
              "      <td>7977.018066</td>\n",
              "      <td>0</td>\n",
              "      <td>0</td>\n",
              "    </tr>\n",
              "    <tr>\n",
              "      <th>2018-05-22</th>\n",
              "      <td>8419.87</td>\n",
              "      <td>8041.78</td>\n",
              "      <td>8004.270996</td>\n",
              "      <td>0</td>\n",
              "      <td>0</td>\n",
              "    </tr>\n",
              "    <tr>\n",
              "      <th>2018-05-23</th>\n",
              "      <td>8037.08</td>\n",
              "      <td>7557.82</td>\n",
              "      <td>8016.127441</td>\n",
              "      <td>0</td>\n",
              "      <td>0</td>\n",
              "    </tr>\n",
              "    <tr>\n",
              "      <th>2018-05-24</th>\n",
              "      <td>7561.12</td>\n",
              "      <td>7587.34</td>\n",
              "      <td>7957.745117</td>\n",
              "      <td>1</td>\n",
              "      <td>1</td>\n",
              "    </tr>\n",
              "    <tr>\n",
              "      <th>2018-05-25</th>\n",
              "      <td>7592.30</td>\n",
              "      <td>7480.14</td>\n",
              "      <td>7833.638184</td>\n",
              "      <td>0</td>\n",
              "      <td>1</td>\n",
              "    </tr>\n",
              "    <tr>\n",
              "      <th>2018-05-26</th>\n",
              "      <td>7486.48</td>\n",
              "      <td>7355.88</td>\n",
              "      <td>7665.571289</td>\n",
              "      <td>0</td>\n",
              "      <td>1</td>\n",
              "    </tr>\n",
              "  </tbody>\n",
              "</table>\n",
              "</div>"
            ],
            "text/plain": [
              "               Open    Close  Predicted_Close  Buy-(Actual)  Buy-(Predicted)\n",
              "Date                                                                        \n",
              "2018-05-17  8370.05  8094.32      8139.000488             0                0\n",
              "2018-05-18  8091.83  8250.97      8074.370605             1                0\n",
              "2018-05-19  8255.73  8247.18      8019.656738             0                0\n",
              "2018-05-20  8246.99  8513.25      7979.665527             1                0\n",
              "2018-05-21  8522.33  8418.99      7977.018066             0                0\n",
              "2018-05-22  8419.87  8041.78      8004.270996             0                0\n",
              "2018-05-23  8037.08  7557.82      8016.127441             0                0\n",
              "2018-05-24  7561.12  7587.34      7957.745117             1                1\n",
              "2018-05-25  7592.30  7480.14      7833.638184             0                1\n",
              "2018-05-26  7486.48  7355.88      7665.571289             0                1"
            ]
          },
          "metadata": {
            "tags": []
          },
          "execution_count": 41
        }
      ]
    },
    {
      "cell_type": "code",
      "metadata": {
        "id": "UZq7SSoN4V9y",
        "colab_type": "code",
        "colab": {}
      },
      "source": [
        "#Calculating Buy or Sell accuracy\n",
        "from sklearn.metrics import confusion_matrix\n",
        "cm = confusion_matrix(compare['Buy-(Actual)'], compare['Buy-(Predicted)'])"
      ],
      "execution_count": 0,
      "outputs": []
    },
    {
      "cell_type": "code",
      "metadata": {
        "id": "TbAAWlqN40VV",
        "colab_type": "code",
        "outputId": "2f0ef93a-4092-48e4-ddbf-1d21b3cc4c5a",
        "colab": {
          "base_uri": "https://localhost:8080/",
          "height": 34
        }
      },
      "source": [
        "Accuracy = cm.diagonal().sum()/cm.sum()\n",
        "print(\"Buy or Sell Accuracy : \", Accuracy)"
      ],
      "execution_count": 0,
      "outputs": [
        {
          "output_type": "stream",
          "text": [
            "Buy or Sell Accuracy :  0.5075921908893709\n"
          ],
          "name": "stdout"
        }
      ]
    },
    {
      "cell_type": "markdown",
      "metadata": {
        "id": "-EyXeLPH0GPU",
        "colab_type": "text"
      },
      "source": [
        "### Best Approach\n",
        "\n",
        "The Buy or Sell can be predicted using the RNN. In the above approach we used regression to predict the closing prices and then maped the Buy or sell method. Instead we can use the Buy/Sell as the target variable and use the RNN for categorical prediction."
      ]
    }
  ]
}
